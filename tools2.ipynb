{
 "cells": [
  {
   "cell_type": "code",
   "execution_count": 10,
   "metadata": {},
   "outputs": [
    {
     "name": "stdout",
     "output_type": "stream",
     "text": [
      "🧠 Using AI Assistant (Classifier): mistral:latest\n"
     ]
    }
   ],
   "source": [
    "import os\n",
    "from langchain_ollama import OllamaLLM\n",
    "from langgraph.graph import MessagesState, StateGraph, START, END\n",
    "from langchain_core.messages import SystemMessage\n",
    "\n",
    "# Define AI models\n",
    "classifier_model = OllamaLLM(model=\"mistral:latest\")  # Updated AI Assistant (Classifier)\n",
    "nlp_model = OllamaLLM(model=\"phi:latest\")  # Natural Language Model\n",
    "code_model = OllamaLLM(model=\"codellama:latest\")  # Code Model (Fixed space issue)\n",
    "checker = OllamaLLM(model=\"mistral:latest\")  # Final Checker\n",
    "\n",
    "# Define state class\n",
    "class State(MessagesState):\n",
    "    query: str\n",
    "    category: str = None\n",
    "    response: str = None\n",
    "\n",
    "\n",
    "print(f\"🧠 Using AI Assistant (Classifier): {classifier_model.model}\")"
   ]
  },
  {
   "cell_type": "code",
   "execution_count": 8,
   "metadata": {},
   "outputs": [
    {
     "name": "stdout",
     "output_type": "stream",
     "text": [
      "El resultado de 4 * 56 es 224.\n"
     ]
    }
   ],
   "source": [
    "# Cargar variables de entorno\n",
    "import os\n",
    "from dotenv import load_dotenv\n",
    "from langchain_ollama import OllamaLLM\n",
    "from langchain_core.tools import tool\n",
    "from langchain_core.runnables import RunnableConfig\n",
    "\n",
    "# Cargar variables de entorno\n",
    "load_dotenv()\n",
    "\n",
    "# Definir una herramienta para multiplicar\n",
    "@tool\n",
    "def multiplicar(a: int, b: int) -> str:\n",
    "    \"\"\"Devuelve el resultado de multiplicar a por b en formato texto.\"\"\"\n",
    "    resultado = a * b\n",
    "    return f\"El resultado de {a} * {b} es {resultado}.\"\n",
    "\n",
    "# Inicializar el modelo LLM\n",
    "llm = OllamaLLM(model=\"mistral:latest\", temperature=0)\n",
    "\n",
    "# Crear la consulta con uso de herramientas\n",
    "from langchain_core.pydantic_v1 import BaseModel, Field\n",
    "from langchain_core.runnables import RunnableLambda\n",
    "\n",
    "# Definir un modelo de entrada para la herramienta\n",
    "class MultiplicarInput(BaseModel):\n",
    "    a: int = Field(..., description=\"Primer número a multiplicar\")\n",
    "    b: int = Field(..., description=\"Segundo número a multiplicar\")\n",
    "\n",
    "# Crear una función para usar la herramienta\n",
    "def llamar_multiplicacion(inputs):\n",
    "    return multiplicar.invoke(inputs)\n",
    "\n",
    "# Convertir en una tarea ejecutable\n",
    "multiplicar_runnable = RunnableLambda(llamar_multiplicacion)\n",
    "\n",
    "# Hacer la consulta\n",
    "pregunta = {\"a\": 4, \"b\": 56}\n",
    "respuesta = multiplicar_runnable.invoke(pregunta)\n",
    "\n",
    "print(respuesta)\n"
   ]
  },
  {
   "cell_type": "code",
   "execution_count": 9,
   "metadata": {},
   "outputs": [
    {
     "ename": "ImportError",
     "evalue": "cannot import name 'AgentExecutor' from 'langchain_core.agents' (/home/jorgeglezdiaz/Escritorio/practises/langgraph/.venv/lib/python3.12/site-packages/langchain_core/agents.py)",
     "output_type": "error",
     "traceback": [
      "\u001b[31m---------------------------------------------------------------------------\u001b[39m",
      "\u001b[31mImportError\u001b[39m                               Traceback (most recent call last)",
      "\u001b[36mCell\u001b[39m\u001b[36m \u001b[39m\u001b[32mIn[9]\u001b[39m\u001b[32m, line 6\u001b[39m\n\u001b[32m      4\u001b[39m \u001b[38;5;28;01mfrom\u001b[39;00m\u001b[38;5;250m \u001b[39m\u001b[34;01mlangchain_ollama\u001b[39;00m\u001b[38;5;250m \u001b[39m\u001b[38;5;28;01mimport\u001b[39;00m OllamaLLM\n\u001b[32m      5\u001b[39m \u001b[38;5;28;01mfrom\u001b[39;00m\u001b[38;5;250m \u001b[39m\u001b[34;01mlangchain_core\u001b[39;00m\u001b[34;01m.\u001b[39;00m\u001b[34;01mtools\u001b[39;00m\u001b[38;5;250m \u001b[39m\u001b[38;5;28;01mimport\u001b[39;00m tool\n\u001b[32m----> \u001b[39m\u001b[32m6\u001b[39m \u001b[38;5;28;01mfrom\u001b[39;00m\u001b[38;5;250m \u001b[39m\u001b[34;01mlangchain_core\u001b[39;00m\u001b[34;01m.\u001b[39;00m\u001b[34;01magents\u001b[39;00m\u001b[38;5;250m \u001b[39m\u001b[38;5;28;01mimport\u001b[39;00m AgentExecutor, create_openai_tools_agent\n\u001b[32m      8\u001b[39m \u001b[38;5;66;03m# Cargar variables de entorno\u001b[39;00m\n\u001b[32m      9\u001b[39m load_dotenv()\n",
      "\u001b[31mImportError\u001b[39m: cannot import name 'AgentExecutor' from 'langchain_core.agents' (/home/jorgeglezdiaz/Escritorio/practises/langgraph/.venv/lib/python3.12/site-packages/langchain_core/agents.py)"
     ]
    }
   ],
   "source": [
    "# Cargar variables de entorno\n",
    "import os\n",
    "from dotenv import load_dotenv\n",
    "from langchain_ollama import OllamaLLM\n",
    "from langchain_core.tools import tool\n",
    "from langchain_core.agents import AgentExecutor, create_openai_tools_agent\n",
    "\n",
    "# Cargar variables de entorno\n",
    "load_dotenv()\n",
    "\n",
    "# Definir una herramienta para multiplicar\n",
    "@tool\n",
    "def multiplicar(a: int, b: int) -> str:\n",
    "    \"\"\"Devuelve el resultado de multiplicar a por b en formato texto.\"\"\"\n",
    "    resultado = a * b\n",
    "    return f\"El resultado de {a} * {b} es {resultado}.\"\n",
    "\n",
    "# Inicializar el modelo LLM\n",
    "llm = OllamaLLM(model=\"mistral:latest\", temperature=0)\n",
    "\n",
    "# Definir herramientas disponibles para el agente\n",
    "tools = [multiplicar]\n",
    "\n",
    "# Crear el agente con herramientas\n",
    "agent = create_openai_tools_agent(llm, tools)\n",
    "\n",
    "# Crear el ejecutor del agente\n",
    "agent_executor = AgentExecutor(agent=agent, tools=tools, verbose=True)\n",
    "\n",
    "# Hacer la consulta con el modelo\n",
    "pregunta = \"¿Cuánto es 4 * 56?\"\n",
    "respuesta = agent_executor.invoke({\"input\": pregunta})\n",
    "\n",
    "print(respuesta)\n"
   ]
  }
 ],
 "metadata": {
  "kernelspec": {
   "display_name": ".venv",
   "language": "python",
   "name": "python3"
  },
  "language_info": {
   "codemirror_mode": {
    "name": "ipython",
    "version": 3
   },
   "file_extension": ".py",
   "mimetype": "text/x-python",
   "name": "python",
   "nbconvert_exporter": "python",
   "pygments_lexer": "ipython3",
   "version": "3.12.3"
  }
 },
 "nbformat": 4,
 "nbformat_minor": 2
}
